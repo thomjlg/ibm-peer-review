{
    "cells": [
        {
            "attachments": {},
            "cell_type": "markdown",
            "metadata": {},
            "source": [
                "<center>\n",
                "    <img src=\"https://gitlab.com/ibm/skills-network/courses/placeholder101/-/raw/master/labs/module%201/images/IDSNlogo.png\" width=\"300\" alt=\"cognitiveclass.ai logo\"  />\n",
                "</center>\n"
            ]
        },
        {
            "attachments": {},
            "cell_type": "markdown",
            "metadata": {},
            "source": [
                "# Peer Review Assignment - Data Engineer - ETL\n"
            ]
        },
        {
            "attachments": {},
            "cell_type": "markdown",
            "metadata": {},
            "source": [
                "Estimated time needed: **20** minutes\n"
            ]
        },
        {
            "attachments": {},
            "cell_type": "markdown",
            "metadata": {},
            "source": [
                "## Objectives\n",
                "\n",
                "In this final part you will:\n",
                "\n",
                "*   Run the ETL process\n",
                "*   Extract bank and market cap data from the JSON file `bank_market_cap.json`\n",
                "*   Transform the market cap currency using the exchange rate data\n",
                "*   Load the transformed data into a seperate CSV\n"
            ]
        },
        {
            "attachments": {},
            "cell_type": "markdown",
            "metadata": {},
            "source": [
                "For this lab, we are going to be using Python and several Python libraries. Some of these libraries might be installed in your lab environment or in SN Labs. Others may need to be installed by you. The cells below will install these libraries when executed.\n"
            ]
        },
        {
            "cell_type": "code",
            "execution_count": 1,
            "metadata": {},
            "outputs": [],
            "source": [
                "#!pip install glob\n",
                "#!pip install pandas\n",
                "#!pip install requests\n",
                "#!pip install datetime"
            ]
        },
        {
            "attachments": {},
            "cell_type": "markdown",
            "metadata": {},
            "source": [
                "## Imports\n",
                "\n",
                "Import any additional libraries you may need here.\n"
            ]
        },
        {
            "cell_type": "code",
            "execution_count": 2,
            "metadata": {},
            "outputs": [],
            "source": [
                "import glob\n",
                "import pandas as pd\n",
                "from datetime import datetime"
            ]
        },
        {
            "attachments": {},
            "cell_type": "markdown",
            "metadata": {},
            "source": [
                "As the exchange rate fluctuates, we will download the same dataset to make marking simpler. This will be in the same format as the dataset you used in the last section\n"
            ]
        },
        {
            "cell_type": "code",
            "execution_count": 15,
            "metadata": {},
            "outputs": [
                {
                    "data": {
                        "text/html": [
                            "<div>\n",
                            "<style scoped>\n",
                            "    .dataframe tbody tr th:only-of-type {\n",
                            "        vertical-align: middle;\n",
                            "    }\n",
                            "\n",
                            "    .dataframe tbody tr th {\n",
                            "        vertical-align: top;\n",
                            "    }\n",
                            "\n",
                            "    .dataframe thead th {\n",
                            "        text-align: right;\n",
                            "    }\n",
                            "</style>\n",
                            "<table border=\"1\" class=\"dataframe\">\n",
                            "  <thead>\n",
                            "    <tr style=\"text-align: right;\">\n",
                            "      <th></th>\n",
                            "      <th>Unnamed: 0</th>\n",
                            "      <th>Rates</th>\n",
                            "    </tr>\n",
                            "  </thead>\n",
                            "  <tbody>\n",
                            "    <tr>\n",
                            "      <th>0</th>\n",
                            "      <td>AUD</td>\n",
                            "      <td>1.297088</td>\n",
                            "    </tr>\n",
                            "    <tr>\n",
                            "      <th>1</th>\n",
                            "      <td>BGN</td>\n",
                            "      <td>1.608653</td>\n",
                            "    </tr>\n",
                            "    <tr>\n",
                            "      <th>2</th>\n",
                            "      <td>BRL</td>\n",
                            "      <td>5.409196</td>\n",
                            "    </tr>\n",
                            "    <tr>\n",
                            "      <th>3</th>\n",
                            "      <td>CAD</td>\n",
                            "      <td>1.271426</td>\n",
                            "    </tr>\n",
                            "    <tr>\n",
                            "      <th>4</th>\n",
                            "      <td>CHF</td>\n",
                            "      <td>0.886083</td>\n",
                            "    </tr>\n",
                            "    <tr>\n",
                            "      <th>5</th>\n",
                            "      <td>CNY</td>\n",
                            "      <td>6.483139</td>\n",
                            "    </tr>\n",
                            "    <tr>\n",
                            "      <th>6</th>\n",
                            "      <td>CZK</td>\n",
                            "      <td>21.510117</td>\n",
                            "    </tr>\n",
                            "    <tr>\n",
                            "      <th>7</th>\n",
                            "      <td>DKK</td>\n",
                            "      <td>6.119757</td>\n",
                            "    </tr>\n",
                            "    <tr>\n",
                            "      <th>8</th>\n",
                            "      <td>EUR</td>\n",
                            "      <td>0.822504</td>\n",
                            "    </tr>\n",
                            "    <tr>\n",
                            "      <th>9</th>\n",
                            "      <td>GBP</td>\n",
                            "      <td>0.732398</td>\n",
                            "    </tr>\n",
                            "    <tr>\n",
                            "      <th>10</th>\n",
                            "      <td>HKD</td>\n",
                            "      <td>7.752509</td>\n",
                            "    </tr>\n",
                            "    <tr>\n",
                            "      <th>11</th>\n",
                            "      <td>HRK</td>\n",
                            "      <td>6.222652</td>\n",
                            "    </tr>\n",
                            "    <tr>\n",
                            "      <th>12</th>\n",
                            "      <td>HUF</td>\n",
                            "      <td>294.135549</td>\n",
                            "    </tr>\n",
                            "    <tr>\n",
                            "      <th>13</th>\n",
                            "      <td>IDR</td>\n",
                            "      <td>14097.902616</td>\n",
                            "    </tr>\n",
                            "    <tr>\n",
                            "      <th>14</th>\n",
                            "      <td>ILS</td>\n",
                            "      <td>3.281132</td>\n",
                            "    </tr>\n",
                            "    <tr>\n",
                            "      <th>15</th>\n",
                            "      <td>INR</td>\n",
                            "      <td>73.011186</td>\n",
                            "    </tr>\n",
                            "    <tr>\n",
                            "      <th>16</th>\n",
                            "      <td>ISK</td>\n",
                            "      <td>129.133081</td>\n",
                            "    </tr>\n",
                            "    <tr>\n",
                            "      <th>17</th>\n",
                            "      <td>JPY</td>\n",
                            "      <td>103.791742</td>\n",
                            "    </tr>\n",
                            "    <tr>\n",
                            "      <th>18</th>\n",
                            "      <td>KRW</td>\n",
                            "      <td>1105.839776</td>\n",
                            "    </tr>\n",
                            "    <tr>\n",
                            "      <th>19</th>\n",
                            "      <td>MXN</td>\n",
                            "      <td>19.932966</td>\n",
                            "    </tr>\n",
                            "    <tr>\n",
                            "      <th>20</th>\n",
                            "      <td>MYR</td>\n",
                            "      <td>4.043017</td>\n",
                            "    </tr>\n",
                            "    <tr>\n",
                            "      <th>21</th>\n",
                            "      <td>NOK</td>\n",
                            "      <td>8.497121</td>\n",
                            "    </tr>\n",
                            "    <tr>\n",
                            "      <th>22</th>\n",
                            "      <td>NZD</td>\n",
                            "      <td>1.393733</td>\n",
                            "    </tr>\n",
                            "    <tr>\n",
                            "      <th>23</th>\n",
                            "      <td>PHP</td>\n",
                            "      <td>48.070406</td>\n",
                            "    </tr>\n",
                            "    <tr>\n",
                            "      <th>24</th>\n",
                            "      <td>PLN</td>\n",
                            "      <td>3.732933</td>\n",
                            "    </tr>\n",
                            "    <tr>\n",
                            "      <th>25</th>\n",
                            "      <td>RON</td>\n",
                            "      <td>4.008883</td>\n",
                            "    </tr>\n",
                            "    <tr>\n",
                            "      <th>26</th>\n",
                            "      <td>RUB</td>\n",
                            "      <td>74.930827</td>\n",
                            "    </tr>\n",
                            "    <tr>\n",
                            "      <th>27</th>\n",
                            "      <td>SEK</td>\n",
                            "      <td>8.292071</td>\n",
                            "    </tr>\n",
                            "    <tr>\n",
                            "      <th>28</th>\n",
                            "      <td>SGD</td>\n",
                            "      <td>1.328261</td>\n",
                            "    </tr>\n",
                            "    <tr>\n",
                            "      <th>29</th>\n",
                            "      <td>THB</td>\n",
                            "      <td>30.009870</td>\n",
                            "    </tr>\n",
                            "    <tr>\n",
                            "      <th>30</th>\n",
                            "      <td>TRY</td>\n",
                            "      <td>7.418572</td>\n",
                            "    </tr>\n",
                            "    <tr>\n",
                            "      <th>31</th>\n",
                            "      <td>USD</td>\n",
                            "      <td>1.000000</td>\n",
                            "    </tr>\n",
                            "    <tr>\n",
                            "      <th>32</th>\n",
                            "      <td>ZAR</td>\n",
                            "      <td>15.118441</td>\n",
                            "    </tr>\n",
                            "  </tbody>\n",
                            "</table>\n",
                            "</div>"
                        ],
                        "text/plain": [
                            "   Unnamed: 0         Rates\n",
                            "0         AUD      1.297088\n",
                            "1         BGN      1.608653\n",
                            "2         BRL      5.409196\n",
                            "3         CAD      1.271426\n",
                            "4         CHF      0.886083\n",
                            "5         CNY      6.483139\n",
                            "6         CZK     21.510117\n",
                            "7         DKK      6.119757\n",
                            "8         EUR      0.822504\n",
                            "9         GBP      0.732398\n",
                            "10        HKD      7.752509\n",
                            "11        HRK      6.222652\n",
                            "12        HUF    294.135549\n",
                            "13        IDR  14097.902616\n",
                            "14        ILS      3.281132\n",
                            "15        INR     73.011186\n",
                            "16        ISK    129.133081\n",
                            "17        JPY    103.791742\n",
                            "18        KRW   1105.839776\n",
                            "19        MXN     19.932966\n",
                            "20        MYR      4.043017\n",
                            "21        NOK      8.497121\n",
                            "22        NZD      1.393733\n",
                            "23        PHP     48.070406\n",
                            "24        PLN      3.732933\n",
                            "25        RON      4.008883\n",
                            "26        RUB     74.930827\n",
                            "27        SEK      8.292071\n",
                            "28        SGD      1.328261\n",
                            "29        THB     30.009870\n",
                            "30        TRY      7.418572\n",
                            "31        USD      1.000000\n",
                            "32        ZAR     15.118441"
                        ]
                    },
                    "metadata": {},
                    "output_type": "display_data"
                }
            ],
            "source": [
                "data = pd.read_csv('exchange_rates.csv')\n",
                "!wget https://cf-courses-data.s3.us.cloud-object-storage.appdomain.cloud/IBMDeveloperSkillsNetwork-PY0221EN-SkillsNetwork/labs/module%206/Lab%20-%20Extract%20Transform%20Load/data/bank_market_cap_1.json\n",
                "!wget https://cf-courses-data.s3.us.cloud-object-storage.appdomain.cloud/IBMDeveloperSkillsNetwork-PY0221EN-SkillsNetwork/labs/module%206/Lab%20-%20Extract%20Transform%20Load/data/bank_market_cap_2.json\n"
            ]
        },
        {
            "attachments": {},
            "cell_type": "markdown",
            "metadata": {},
            "source": [
                "## Extract\n"
            ]
        },
        {
            "attachments": {},
            "cell_type": "markdown",
            "metadata": {},
            "source": [
                "### JSON Extract Function\n",
                "\n",
                "This function will extract JSON files.\n"
            ]
        },
        {
            "cell_type": "code",
            "execution_count": 42,
            "metadata": {},
            "outputs": [],
            "source": [
                "def extract_from_csv(file_to_process):\n",
                "    dataframe = pd.read_csv(file_to_process)\n",
                "    return dataframe"
            ]
        },
        {
            "attachments": {},
            "cell_type": "markdown",
            "metadata": {},
            "source": [
                "## Extract Function\n",
                "\n",
                "Define the extract function that finds JSON file `bank_market_cap_1.json` and calls the function created above to extract data from them. Store the data in a `pandas` dataframe. Use the following list for the columns.\n"
            ]
        },
        {
            "attachments": {},
            "cell_type": "markdown",
            "metadata": {},
            "source": [
                "<b>Question 1</b> Load the file <code>exchange_rates.csv</code> as a dataframe and find the exchange rate for British pounds with the symbol <code>GBP</code>, store it in the variable  <code>exchange_rate</code>, you will be asked for the number. Hint: set the parameter  <code>index_col</code> to 0.\n"
            ]
        },
        {
            "cell_type": "raw",
            "metadata": {},
            "source": [
                "def log(message):\n",
                "    timestamp_format = '%Y-%h-%d-%H:%M:%S' # Year-Monthname-Day-Hour-Minute-Second\n",
                "    now = datetime.now() # get current timestamp\n",
                "    timestamp = now.strftime(timestamp_format)\n",
                "    with open(\"logfile.txt\",\"a\") as f:\n",
                "        f.write(timestamp + ',' + message + '\\n')"
            ]
        },
        {
            "cell_type": "code",
            "execution_count": 43,
            "metadata": {},
            "outputs": [],
            "source": [
                "data = extract_from_csv('exchange_rates.csv')"
            ]
        },
        {
            "cell_type": "code",
            "execution_count": 47,
            "metadata": {},
            "outputs": [
                {
                    "data": {
                        "text/html": [
                            "<div>\n",
                            "<style scoped>\n",
                            "    .dataframe tbody tr th:only-of-type {\n",
                            "        vertical-align: middle;\n",
                            "    }\n",
                            "\n",
                            "    .dataframe tbody tr th {\n",
                            "        vertical-align: top;\n",
                            "    }\n",
                            "\n",
                            "    .dataframe thead th {\n",
                            "        text-align: right;\n",
                            "    }\n",
                            "</style>\n",
                            "<table border=\"1\" class=\"dataframe\">\n",
                            "  <thead>\n",
                            "    <tr style=\"text-align: right;\">\n",
                            "      <th></th>\n",
                            "      <th>Name</th>\n",
                            "      <th>Rates</th>\n",
                            "    </tr>\n",
                            "  </thead>\n",
                            "  <tbody>\n",
                            "    <tr>\n",
                            "      <th>0</th>\n",
                            "      <td>AUD</td>\n",
                            "      <td>1.297088</td>\n",
                            "    </tr>\n",
                            "    <tr>\n",
                            "      <th>1</th>\n",
                            "      <td>BGN</td>\n",
                            "      <td>1.608653</td>\n",
                            "    </tr>\n",
                            "    <tr>\n",
                            "      <th>2</th>\n",
                            "      <td>BRL</td>\n",
                            "      <td>5.409196</td>\n",
                            "    </tr>\n",
                            "    <tr>\n",
                            "      <th>3</th>\n",
                            "      <td>CAD</td>\n",
                            "      <td>1.271426</td>\n",
                            "    </tr>\n",
                            "    <tr>\n",
                            "      <th>4</th>\n",
                            "      <td>CHF</td>\n",
                            "      <td>0.886083</td>\n",
                            "    </tr>\n",
                            "    <tr>\n",
                            "      <th>5</th>\n",
                            "      <td>CNY</td>\n",
                            "      <td>6.483139</td>\n",
                            "    </tr>\n",
                            "    <tr>\n",
                            "      <th>6</th>\n",
                            "      <td>CZK</td>\n",
                            "      <td>21.510117</td>\n",
                            "    </tr>\n",
                            "    <tr>\n",
                            "      <th>7</th>\n",
                            "      <td>DKK</td>\n",
                            "      <td>6.119757</td>\n",
                            "    </tr>\n",
                            "    <tr>\n",
                            "      <th>8</th>\n",
                            "      <td>EUR</td>\n",
                            "      <td>0.822504</td>\n",
                            "    </tr>\n",
                            "    <tr>\n",
                            "      <th>9</th>\n",
                            "      <td>GBP</td>\n",
                            "      <td>0.732398</td>\n",
                            "    </tr>\n",
                            "    <tr>\n",
                            "      <th>10</th>\n",
                            "      <td>HKD</td>\n",
                            "      <td>7.752509</td>\n",
                            "    </tr>\n",
                            "    <tr>\n",
                            "      <th>11</th>\n",
                            "      <td>HRK</td>\n",
                            "      <td>6.222652</td>\n",
                            "    </tr>\n",
                            "    <tr>\n",
                            "      <th>12</th>\n",
                            "      <td>HUF</td>\n",
                            "      <td>294.135549</td>\n",
                            "    </tr>\n",
                            "    <tr>\n",
                            "      <th>13</th>\n",
                            "      <td>IDR</td>\n",
                            "      <td>14097.902616</td>\n",
                            "    </tr>\n",
                            "    <tr>\n",
                            "      <th>14</th>\n",
                            "      <td>ILS</td>\n",
                            "      <td>3.281132</td>\n",
                            "    </tr>\n",
                            "    <tr>\n",
                            "      <th>15</th>\n",
                            "      <td>INR</td>\n",
                            "      <td>73.011186</td>\n",
                            "    </tr>\n",
                            "    <tr>\n",
                            "      <th>16</th>\n",
                            "      <td>ISK</td>\n",
                            "      <td>129.133081</td>\n",
                            "    </tr>\n",
                            "    <tr>\n",
                            "      <th>17</th>\n",
                            "      <td>JPY</td>\n",
                            "      <td>103.791742</td>\n",
                            "    </tr>\n",
                            "    <tr>\n",
                            "      <th>18</th>\n",
                            "      <td>KRW</td>\n",
                            "      <td>1105.839776</td>\n",
                            "    </tr>\n",
                            "    <tr>\n",
                            "      <th>19</th>\n",
                            "      <td>MXN</td>\n",
                            "      <td>19.932966</td>\n",
                            "    </tr>\n",
                            "    <tr>\n",
                            "      <th>20</th>\n",
                            "      <td>MYR</td>\n",
                            "      <td>4.043017</td>\n",
                            "    </tr>\n",
                            "    <tr>\n",
                            "      <th>21</th>\n",
                            "      <td>NOK</td>\n",
                            "      <td>8.497121</td>\n",
                            "    </tr>\n",
                            "    <tr>\n",
                            "      <th>22</th>\n",
                            "      <td>NZD</td>\n",
                            "      <td>1.393733</td>\n",
                            "    </tr>\n",
                            "    <tr>\n",
                            "      <th>23</th>\n",
                            "      <td>PHP</td>\n",
                            "      <td>48.070406</td>\n",
                            "    </tr>\n",
                            "    <tr>\n",
                            "      <th>24</th>\n",
                            "      <td>PLN</td>\n",
                            "      <td>3.732933</td>\n",
                            "    </tr>\n",
                            "    <tr>\n",
                            "      <th>25</th>\n",
                            "      <td>RON</td>\n",
                            "      <td>4.008883</td>\n",
                            "    </tr>\n",
                            "    <tr>\n",
                            "      <th>26</th>\n",
                            "      <td>RUB</td>\n",
                            "      <td>74.930827</td>\n",
                            "    </tr>\n",
                            "    <tr>\n",
                            "      <th>27</th>\n",
                            "      <td>SEK</td>\n",
                            "      <td>8.292071</td>\n",
                            "    </tr>\n",
                            "    <tr>\n",
                            "      <th>28</th>\n",
                            "      <td>SGD</td>\n",
                            "      <td>1.328261</td>\n",
                            "    </tr>\n",
                            "    <tr>\n",
                            "      <th>29</th>\n",
                            "      <td>THB</td>\n",
                            "      <td>30.009870</td>\n",
                            "    </tr>\n",
                            "    <tr>\n",
                            "      <th>30</th>\n",
                            "      <td>TRY</td>\n",
                            "      <td>7.418572</td>\n",
                            "    </tr>\n",
                            "    <tr>\n",
                            "      <th>31</th>\n",
                            "      <td>USD</td>\n",
                            "      <td>1.000000</td>\n",
                            "    </tr>\n",
                            "    <tr>\n",
                            "      <th>32</th>\n",
                            "      <td>ZAR</td>\n",
                            "      <td>15.118441</td>\n",
                            "    </tr>\n",
                            "  </tbody>\n",
                            "</table>\n",
                            "</div>"
                        ],
                        "text/plain": [
                            "   Name         Rates\n",
                            "0   AUD      1.297088\n",
                            "1   BGN      1.608653\n",
                            "2   BRL      5.409196\n",
                            "3   CAD      1.271426\n",
                            "4   CHF      0.886083\n",
                            "5   CNY      6.483139\n",
                            "6   CZK     21.510117\n",
                            "7   DKK      6.119757\n",
                            "8   EUR      0.822504\n",
                            "9   GBP      0.732398\n",
                            "10  HKD      7.752509\n",
                            "11  HRK      6.222652\n",
                            "12  HUF    294.135549\n",
                            "13  IDR  14097.902616\n",
                            "14  ILS      3.281132\n",
                            "15  INR     73.011186\n",
                            "16  ISK    129.133081\n",
                            "17  JPY    103.791742\n",
                            "18  KRW   1105.839776\n",
                            "19  MXN     19.932966\n",
                            "20  MYR      4.043017\n",
                            "21  NOK      8.497121\n",
                            "22  NZD      1.393733\n",
                            "23  PHP     48.070406\n",
                            "24  PLN      3.732933\n",
                            "25  RON      4.008883\n",
                            "26  RUB     74.930827\n",
                            "27  SEK      8.292071\n",
                            "28  SGD      1.328261\n",
                            "29  THB     30.009870\n",
                            "30  TRY      7.418572\n",
                            "31  USD      1.000000\n",
                            "32  ZAR     15.118441"
                        ]
                    },
                    "metadata": {},
                    "output_type": "display_data"
                }
            ],
            "source": [
                "data.columns = ['Name', 'Rates']\n",
                "display(data)"
            ]
        },
        {
            "cell_type": "code",
            "execution_count": 48,
            "metadata": {},
            "outputs": [
                {
                    "data": {
                        "text/html": [
                            "<div>\n",
                            "<style scoped>\n",
                            "    .dataframe tbody tr th:only-of-type {\n",
                            "        vertical-align: middle;\n",
                            "    }\n",
                            "\n",
                            "    .dataframe tbody tr th {\n",
                            "        vertical-align: top;\n",
                            "    }\n",
                            "\n",
                            "    .dataframe thead th {\n",
                            "        text-align: right;\n",
                            "    }\n",
                            "</style>\n",
                            "<table border=\"1\" class=\"dataframe\">\n",
                            "  <thead>\n",
                            "    <tr style=\"text-align: right;\">\n",
                            "      <th></th>\n",
                            "      <th>Name</th>\n",
                            "      <th>Rates</th>\n",
                            "    </tr>\n",
                            "  </thead>\n",
                            "  <tbody>\n",
                            "    <tr>\n",
                            "      <th>9</th>\n",
                            "      <td>GBP</td>\n",
                            "      <td>0.732398</td>\n",
                            "    </tr>\n",
                            "  </tbody>\n",
                            "</table>\n",
                            "</div>"
                        ],
                        "text/plain": [
                            "  Name     Rates\n",
                            "9  GBP  0.732398"
                        ]
                    },
                    "metadata": {},
                    "output_type": "display_data"
                }
            ],
            "source": [
                "display(data[data['Name']=='GBP'])"
            ]
        },
        {
            "attachments": {},
            "cell_type": "markdown",
            "metadata": {},
            "source": [
                "## Transform\n",
                "\n",
                "Using <code>exchange_rate</code> and the `exchange_rates.csv` file find the exchange rate of USD to GBP. Write a transform function that\n",
                "\n",
                "1.  Changes the `Market Cap (US$ Billion)` column from USD to GBP\n",
                "2.  Rounds the Market Cap (US$ Billion)\\` column to 3 decimal places\n",
                "3.  Rename `Market Cap (US$ Billion)` to `Market Cap (GBP$ Billion)`\n"
            ]
        },
        {
            "cell_type": "code",
            "execution_count": 55,
            "metadata": {},
            "outputs": [
                {
                    "data": {
                        "text/html": [
                            "<div>\n",
                            "<style scoped>\n",
                            "    .dataframe tbody tr th:only-of-type {\n",
                            "        vertical-align: middle;\n",
                            "    }\n",
                            "\n",
                            "    .dataframe tbody tr th {\n",
                            "        vertical-align: top;\n",
                            "    }\n",
                            "\n",
                            "    .dataframe thead th {\n",
                            "        text-align: right;\n",
                            "    }\n",
                            "</style>\n",
                            "<table border=\"1\" class=\"dataframe\">\n",
                            "  <thead>\n",
                            "    <tr style=\"text-align: right;\">\n",
                            "      <th></th>\n",
                            "      <th>Name</th>\n",
                            "      <th>Market Cap (GBP$ Billion)</th>\n",
                            "    </tr>\n",
                            "  </thead>\n",
                            "  <tbody>\n",
                            "    <tr>\n",
                            "      <th>0</th>\n",
                            "      <td>AUD</td>\n",
                            "      <td>0.548</td>\n",
                            "    </tr>\n",
                            "    <tr>\n",
                            "      <th>1</th>\n",
                            "      <td>BGN</td>\n",
                            "      <td>0.678</td>\n",
                            "    </tr>\n",
                            "    <tr>\n",
                            "      <th>2</th>\n",
                            "      <td>BRL</td>\n",
                            "      <td>2.282</td>\n",
                            "    </tr>\n",
                            "    <tr>\n",
                            "      <th>3</th>\n",
                            "      <td>CAD</td>\n",
                            "      <td>0.537</td>\n",
                            "    </tr>\n",
                            "    <tr>\n",
                            "      <th>4</th>\n",
                            "      <td>CHF</td>\n",
                            "      <td>0.374</td>\n",
                            "    </tr>\n",
                            "    <tr>\n",
                            "      <th>5</th>\n",
                            "      <td>CNY</td>\n",
                            "      <td>2.734</td>\n",
                            "    </tr>\n",
                            "    <tr>\n",
                            "      <th>6</th>\n",
                            "      <td>CZK</td>\n",
                            "      <td>9.075</td>\n",
                            "    </tr>\n",
                            "    <tr>\n",
                            "      <th>7</th>\n",
                            "      <td>DKK</td>\n",
                            "      <td>2.582</td>\n",
                            "    </tr>\n",
                            "    <tr>\n",
                            "      <th>8</th>\n",
                            "      <td>EUR</td>\n",
                            "      <td>0.347</td>\n",
                            "    </tr>\n",
                            "    <tr>\n",
                            "      <th>9</th>\n",
                            "      <td>GBP</td>\n",
                            "      <td>0.309</td>\n",
                            "    </tr>\n",
                            "    <tr>\n",
                            "      <th>10</th>\n",
                            "      <td>HKD</td>\n",
                            "      <td>3.270</td>\n",
                            "    </tr>\n",
                            "    <tr>\n",
                            "      <th>11</th>\n",
                            "      <td>HRK</td>\n",
                            "      <td>2.625</td>\n",
                            "    </tr>\n",
                            "    <tr>\n",
                            "      <th>12</th>\n",
                            "      <td>HUF</td>\n",
                            "      <td>124.089</td>\n",
                            "    </tr>\n",
                            "    <tr>\n",
                            "      <th>13</th>\n",
                            "      <td>IDR</td>\n",
                            "      <td>5947.552</td>\n",
                            "    </tr>\n",
                            "    <tr>\n",
                            "      <th>14</th>\n",
                            "      <td>ILS</td>\n",
                            "      <td>1.384</td>\n",
                            "    </tr>\n",
                            "    <tr>\n",
                            "      <th>15</th>\n",
                            "      <td>INR</td>\n",
                            "      <td>30.801</td>\n",
                            "    </tr>\n",
                            "    <tr>\n",
                            "      <th>16</th>\n",
                            "      <td>ISK</td>\n",
                            "      <td>54.478</td>\n",
                            "    </tr>\n",
                            "    <tr>\n",
                            "      <th>17</th>\n",
                            "      <td>JPY</td>\n",
                            "      <td>43.787</td>\n",
                            "    </tr>\n",
                            "    <tr>\n",
                            "      <th>18</th>\n",
                            "      <td>KRW</td>\n",
                            "      <td>466.526</td>\n",
                            "    </tr>\n",
                            "    <tr>\n",
                            "      <th>19</th>\n",
                            "      <td>MXN</td>\n",
                            "      <td>8.409</td>\n",
                            "    </tr>\n",
                            "    <tr>\n",
                            "      <th>20</th>\n",
                            "      <td>MYR</td>\n",
                            "      <td>1.706</td>\n",
                            "    </tr>\n",
                            "    <tr>\n",
                            "      <th>21</th>\n",
                            "      <td>NOK</td>\n",
                            "      <td>3.585</td>\n",
                            "    </tr>\n",
                            "    <tr>\n",
                            "      <th>22</th>\n",
                            "      <td>NZD</td>\n",
                            "      <td>0.588</td>\n",
                            "    </tr>\n",
                            "    <tr>\n",
                            "      <th>23</th>\n",
                            "      <td>PHP</td>\n",
                            "      <td>20.280</td>\n",
                            "    </tr>\n",
                            "    <tr>\n",
                            "      <th>24</th>\n",
                            "      <td>PLN</td>\n",
                            "      <td>1.575</td>\n",
                            "    </tr>\n",
                            "    <tr>\n",
                            "      <th>25</th>\n",
                            "      <td>RON</td>\n",
                            "      <td>1.691</td>\n",
                            "    </tr>\n",
                            "    <tr>\n",
                            "      <th>26</th>\n",
                            "      <td>RUB</td>\n",
                            "      <td>31.611</td>\n",
                            "    </tr>\n",
                            "    <tr>\n",
                            "      <th>27</th>\n",
                            "      <td>SEK</td>\n",
                            "      <td>3.498</td>\n",
                            "    </tr>\n",
                            "    <tr>\n",
                            "      <th>28</th>\n",
                            "      <td>SGD</td>\n",
                            "      <td>0.560</td>\n",
                            "    </tr>\n",
                            "    <tr>\n",
                            "      <th>29</th>\n",
                            "      <td>THB</td>\n",
                            "      <td>12.660</td>\n",
                            "    </tr>\n",
                            "    <tr>\n",
                            "      <th>30</th>\n",
                            "      <td>TRY</td>\n",
                            "      <td>3.130</td>\n",
                            "    </tr>\n",
                            "    <tr>\n",
                            "      <th>31</th>\n",
                            "      <td>USD</td>\n",
                            "      <td>0.422</td>\n",
                            "    </tr>\n",
                            "    <tr>\n",
                            "      <th>32</th>\n",
                            "      <td>ZAR</td>\n",
                            "      <td>6.378</td>\n",
                            "    </tr>\n",
                            "  </tbody>\n",
                            "</table>\n",
                            "</div>"
                        ],
                        "text/plain": [
                            "   Name  Market Cap (GBP$ Billion)\n",
                            "0   AUD                      0.548\n",
                            "1   BGN                      0.678\n",
                            "2   BRL                      2.282\n",
                            "3   CAD                      0.537\n",
                            "4   CHF                      0.374\n",
                            "5   CNY                      2.734\n",
                            "6   CZK                      9.075\n",
                            "7   DKK                      2.582\n",
                            "8   EUR                      0.347\n",
                            "9   GBP                      0.309\n",
                            "10  HKD                      3.270\n",
                            "11  HRK                      2.625\n",
                            "12  HUF                    124.089\n",
                            "13  IDR                   5947.552\n",
                            "14  ILS                      1.384\n",
                            "15  INR                     30.801\n",
                            "16  ISK                     54.478\n",
                            "17  JPY                     43.787\n",
                            "18  KRW                    466.526\n",
                            "19  MXN                      8.409\n",
                            "20  MYR                      1.706\n",
                            "21  NOK                      3.585\n",
                            "22  NZD                      0.588\n",
                            "23  PHP                     20.280\n",
                            "24  PLN                      1.575\n",
                            "25  RON                      1.691\n",
                            "26  RUB                     31.611\n",
                            "27  SEK                      3.498\n",
                            "28  SGD                      0.560\n",
                            "29  THB                     12.660\n",
                            "30  TRY                      3.130\n",
                            "31  USD                      0.422\n",
                            "32  ZAR                      6.378"
                        ]
                    },
                    "metadata": {},
                    "output_type": "display_data"
                }
            ],
            "source": [
                "def transform(data):\n",
                "    # Write your code here\n",
                "    data['Rates'] = round(0.75 * data['Rates'], 3)\n",
                "    data.rename(columns={'Rates': 'Market Cap (GBP$ Billion)'}, inplace=True)\n",
                "    return data\n",
                "\n",
                "transformed_data = transform(data)\n",
                "display(transformed_data)"
            ]
        },
        {
            "attachments": {},
            "cell_type": "markdown",
            "metadata": {},
            "source": [
                "## Load\n",
                "\n",
                "Create a function that takes a dataframe and load it to a csv named `bank_market_cap_gbp.csv`. Make sure to set `index` to `False`.\n"
            ]
        },
        {
            "cell_type": "code",
            "execution_count": 46,
            "metadata": {},
            "outputs": [],
            "source": [
                "def load(target_file, data_to_load):\n",
                "    # Write your code here\n",
                "    data_to_load.to_csv(target_file, index=False) "
            ]
        },
        {
            "cell_type": "code",
            "execution_count": null,
            "metadata": {},
            "outputs": [],
            "source": []
        },
        {
            "attachments": {},
            "cell_type": "markdown",
            "metadata": {},
            "source": [
                "## Logging Function\n"
            ]
        },
        {
            "attachments": {},
            "cell_type": "markdown",
            "metadata": {},
            "source": [
                "Write the logging function <code>log</code> to log your data:\n"
            ]
        },
        {
            "cell_type": "code",
            "execution_count": 33,
            "metadata": {},
            "outputs": [],
            "source": [
                "def log(message):\n",
                "    # Write your code here\n",
                "    timestamp_format = '%Y-%h-%d-%H:%M:%S' # Year-Monthname-Day-Hour-Minute-Second\n",
                "    now = datetime.now() # get current timestamp\n",
                "    timestamp = now.strftime(timestamp_format)\n",
                "    with open(\"logfile.txt\",\"a\") as f:\n",
                "        f.write(timestamp + ',' + message + '\\n')"
            ]
        },
        {
            "attachments": {},
            "cell_type": "markdown",
            "metadata": {},
            "source": [
                "## Running the ETL Process\n"
            ]
        },
        {
            "attachments": {},
            "cell_type": "markdown",
            "metadata": {},
            "source": [
                "Log the process accordingly using the following <code>\"ETL Job Started\"</code> and <code>\"Extract phase Started\"</code>\n"
            ]
        },
        {
            "cell_type": "code",
            "execution_count": 34,
            "metadata": {},
            "outputs": [],
            "source": [
                "# Write your code here\n",
                "log(\"ETL Job Started\")\n",
                "log(\"Extract phase Started\")"
            ]
        },
        {
            "attachments": {},
            "cell_type": "markdown",
            "metadata": {},
            "source": [
                "### Extract\n"
            ]
        },
        {
            "attachments": {},
            "cell_type": "markdown",
            "metadata": {},
            "source": [
                "<code>Question 2</code> Use the function <code>extract</code>, and print the first 5 rows, take a screen shot:\n"
            ]
        },
        {
            "cell_type": "code",
            "execution_count": 38,
            "metadata": {},
            "outputs": [
                {
                    "data": {
                        "text/html": [
                            "<div>\n",
                            "<style scoped>\n",
                            "    .dataframe tbody tr th:only-of-type {\n",
                            "        vertical-align: middle;\n",
                            "    }\n",
                            "\n",
                            "    .dataframe tbody tr th {\n",
                            "        vertical-align: top;\n",
                            "    }\n",
                            "\n",
                            "    .dataframe thead th {\n",
                            "        text-align: right;\n",
                            "    }\n",
                            "</style>\n",
                            "<table border=\"1\" class=\"dataframe\">\n",
                            "  <thead>\n",
                            "    <tr style=\"text-align: right;\">\n",
                            "      <th></th>\n",
                            "      <th>Name</th>\n",
                            "      <th>Market Cap (US$ Billion)</th>\n",
                            "    </tr>\n",
                            "  </thead>\n",
                            "  <tbody>\n",
                            "    <tr>\n",
                            "      <th>0</th>\n",
                            "      <td>Banco Bilbao Vizcaya Argentaria</td>\n",
                            "      <td>60.678</td>\n",
                            "    </tr>\n",
                            "    <tr>\n",
                            "      <th>1</th>\n",
                            "      <td>Japan Post Bank</td>\n",
                            "      <td>60.525</td>\n",
                            "    </tr>\n",
                            "    <tr>\n",
                            "      <th>2</th>\n",
                            "      <td>The Bank of New York Mellon</td>\n",
                            "      <td>59.823</td>\n",
                            "    </tr>\n",
                            "    <tr>\n",
                            "      <th>3</th>\n",
                            "      <td>Shanghai Pudong Development Bank</td>\n",
                            "      <td>58.796</td>\n",
                            "    </tr>\n",
                            "    <tr>\n",
                            "      <th>4</th>\n",
                            "      <td>Industrial Bank (China)</td>\n",
                            "      <td>57.388</td>\n",
                            "    </tr>\n",
                            "  </tbody>\n",
                            "</table>\n",
                            "</div>"
                        ],
                        "text/plain": [
                            "                               Name  Market Cap (US$ Billion)\n",
                            "0   Banco Bilbao Vizcaya Argentaria                    60.678\n",
                            "1                   Japan Post Bank                    60.525\n",
                            "2       The Bank of New York Mellon                    59.823\n",
                            "3  Shanghai Pudong Development Bank                    58.796\n",
                            "4           Industrial Bank (China)                    57.388"
                        ]
                    },
                    "execution_count": 38,
                    "metadata": {},
                    "output_type": "execute_result"
                }
            ],
            "source": [
                "# Call the function here\n",
                "extracted_data = extract()\n",
                "# Print the rows here\n",
                "extracted_data.head()"
            ]
        },
        {
            "attachments": {},
            "cell_type": "markdown",
            "metadata": {},
            "source": [
                "Log the data as <code>\"Extract phase Ended\"</code>\n"
            ]
        },
        {
            "cell_type": "code",
            "execution_count": 36,
            "metadata": {},
            "outputs": [],
            "source": [
                "# Write your code here\n",
                "log(\"Extract phase Ended\")"
            ]
        },
        {
            "attachments": {},
            "cell_type": "markdown",
            "metadata": {},
            "source": [
                "### Transform\n"
            ]
        },
        {
            "attachments": {},
            "cell_type": "markdown",
            "metadata": {},
            "source": [
                "Log the following  <code>\"Transform phase Started\"</code>\n"
            ]
        },
        {
            "cell_type": "code",
            "execution_count": 39,
            "metadata": {},
            "outputs": [],
            "source": [
                "# Write your code here\n",
                "log(\"Transform phase Started\")"
            ]
        },
        {
            "attachments": {},
            "cell_type": "markdown",
            "metadata": {},
            "source": [
                "<code>Question 3</code> Use the function <code>transform</code> and print the first 5 rows of the output, take a screen shot:\n"
            ]
        },
        {
            "cell_type": "code",
            "execution_count": 40,
            "metadata": {},
            "outputs": [
                {
                    "data": {
                        "text/html": [
                            "<div>\n",
                            "<style scoped>\n",
                            "    .dataframe tbody tr th:only-of-type {\n",
                            "        vertical-align: middle;\n",
                            "    }\n",
                            "\n",
                            "    .dataframe tbody tr th {\n",
                            "        vertical-align: top;\n",
                            "    }\n",
                            "\n",
                            "    .dataframe thead th {\n",
                            "        text-align: right;\n",
                            "    }\n",
                            "</style>\n",
                            "<table border=\"1\" class=\"dataframe\">\n",
                            "  <thead>\n",
                            "    <tr style=\"text-align: right;\">\n",
                            "      <th></th>\n",
                            "      <th>Name</th>\n",
                            "      <th>Market Cap (GBP$ Billion)</th>\n",
                            "    </tr>\n",
                            "  </thead>\n",
                            "  <tbody>\n",
                            "    <tr>\n",
                            "      <th>0</th>\n",
                            "      <td>Banco Bilbao Vizcaya Argentaria</td>\n",
                            "      <td>45.508</td>\n",
                            "    </tr>\n",
                            "    <tr>\n",
                            "      <th>1</th>\n",
                            "      <td>Japan Post Bank</td>\n",
                            "      <td>45.394</td>\n",
                            "    </tr>\n",
                            "    <tr>\n",
                            "      <th>2</th>\n",
                            "      <td>The Bank of New York Mellon</td>\n",
                            "      <td>44.867</td>\n",
                            "    </tr>\n",
                            "    <tr>\n",
                            "      <th>3</th>\n",
                            "      <td>Shanghai Pudong Development Bank</td>\n",
                            "      <td>44.097</td>\n",
                            "    </tr>\n",
                            "    <tr>\n",
                            "      <th>4</th>\n",
                            "      <td>Industrial Bank (China)</td>\n",
                            "      <td>43.041</td>\n",
                            "    </tr>\n",
                            "  </tbody>\n",
                            "</table>\n",
                            "</div>"
                        ],
                        "text/plain": [
                            "                               Name  Market Cap (GBP$ Billion)\n",
                            "0   Banco Bilbao Vizcaya Argentaria                     45.508\n",
                            "1                   Japan Post Bank                     45.394\n",
                            "2       The Bank of New York Mellon                     44.867\n",
                            "3  Shanghai Pudong Development Bank                     44.097\n",
                            "4           Industrial Bank (China)                     43.041"
                        ]
                    },
                    "execution_count": 40,
                    "metadata": {},
                    "output_type": "execute_result"
                }
            ],
            "source": [
                "# Call the function here\n",
                "transformed_data = transform(extracted_data)\n",
                "# Print the first 5 rows here\n",
                "transformed_data.head()"
            ]
        },
        {
            "attachments": {},
            "cell_type": "markdown",
            "metadata": {},
            "source": [
                "Log your data <code>\"Transform phase Ended\"</code>\n"
            ]
        },
        {
            "cell_type": "code",
            "execution_count": 41,
            "metadata": {},
            "outputs": [],
            "source": [
                "# Write your code here\n",
                "log(\"Transform phase Ended\")"
            ]
        },
        {
            "attachments": {},
            "cell_type": "markdown",
            "metadata": {},
            "source": [
                "### Load\n"
            ]
        },
        {
            "attachments": {},
            "cell_type": "markdown",
            "metadata": {},
            "source": [
                "Log the following `\"Load phase Started\"`.\n"
            ]
        },
        {
            "cell_type": "code",
            "execution_count": 42,
            "metadata": {},
            "outputs": [],
            "source": [
                "# Write your code here\n",
                "log(\"Load phase Started\")"
            ]
        },
        {
            "attachments": {},
            "cell_type": "markdown",
            "metadata": {},
            "source": [
                "Call the load function\n"
            ]
        },
        {
            "cell_type": "code",
            "execution_count": 47,
            "metadata": {},
            "outputs": [],
            "source": [
                "# Write your code here\n",
                "load('market_cap.csv', transformed_data)"
            ]
        },
        {
            "attachments": {},
            "cell_type": "markdown",
            "metadata": {},
            "source": [
                "Log the following `\"Load phase Ended\"`.\n"
            ]
        },
        {
            "cell_type": "code",
            "execution_count": 48,
            "metadata": {},
            "outputs": [],
            "source": [
                "# Write your code here\n",
                "log(\"Load phase Ended\")"
            ]
        },
        {
            "attachments": {},
            "cell_type": "markdown",
            "metadata": {},
            "source": [
                "## Authors\n"
            ]
        },
        {
            "attachments": {},
            "cell_type": "markdown",
            "metadata": {},
            "source": [
                "Ramesh Sannareddy, Joseph Santrcangelo and Azim Hirjani\n"
            ]
        },
        {
            "attachments": {},
            "cell_type": "markdown",
            "metadata": {},
            "source": [
                "### Other Contributors\n"
            ]
        },
        {
            "attachments": {},
            "cell_type": "markdown",
            "metadata": {},
            "source": [
                "Rav Ahuja\n"
            ]
        },
        {
            "attachments": {},
            "cell_type": "markdown",
            "metadata": {},
            "source": [
                "## Change Log\n"
            ]
        },
        {
            "attachments": {},
            "cell_type": "markdown",
            "metadata": {},
            "source": [
                "| Date (YYYY-MM-DD) | Version | Changed By        | Change Description                 |\n",
                "| ----------------- | ------- | ----------------- | ---------------------------------- |\n",
                "| 2020-11-25        | 0.1     | Ramesh Sannareddy | Created initial version of the lab |\n"
            ]
        },
        {
            "attachments": {},
            "cell_type": "markdown",
            "metadata": {},
            "source": [
                "Copyright © 2020 IBM Corporation. This notebook and its source code are released under the terms of the [MIT License](https://cognitiveclass.ai/mit-license?utm_medium=Exinfluencer&utm_source=Exinfluencer&utm_content=000026UJ&utm_term=10006555&utm_id=NA-SkillsNetwork-Channel-SkillsNetworkCoursesIBMDeveloperSkillsNetworkPY0221ENSkillsNetwork23455645-2021-01-01&cm_mmc=Email_Newsletter-\\_-Developer_Ed%2BTech-\\_-WW_WW-\\_-SkillsNetwork-Courses-IBM-DA0321EN-SkillsNetwork-21426264&cm_mmca1=000026UJ&cm_mmca2=10006555&cm_mmca3=M12345678&cvosrc=email.Newsletter.M12345678&cvo_campaign=000026UJ).\n"
            ]
        }
    ],
    "metadata": {
        "kernelspec": {
            "display_name": "Python 3.8",
            "language": "python",
            "name": "python3"
        },
        "language_info": {
            "codemirror_mode": {
                "name": "ipython",
                "version": 3
            },
            "file_extension": ".py",
            "mimetype": "text/x-python",
            "name": "python",
            "nbconvert_exporter": "python",
            "pygments_lexer": "ipython3",
            "version": "3.8.5"
        }
    },
    "nbformat": 4,
    "nbformat_minor": 4
}
